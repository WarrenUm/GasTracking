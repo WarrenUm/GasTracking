{
 "cells": [
  {
   "cell_type": "markdown",
   "metadata": {},
   "source": [
    "### Is there a difference in gas prices for each year?\n",
    "    - Quantify the difference\n",
    "\n",
    "### Has my driving gotten more fuel efficient?\n",
    "    - How much?\n",
    "    - How much money did this save?"
   ]
  },
  {
   "cell_type": "code",
   "execution_count": 1,
   "metadata": {},
   "outputs": [],
   "source": [
    "import pandas as pd\n",
    "import numpy as np\n",
    "import matplotlib.pyplot as plt\n",
    "import seaborn as sns\n",
    "import scipy.stats as stats"
   ]
  },
  {
   "cell_type": "code",
   "execution_count": 2,
   "metadata": {},
   "outputs": [
    {
     "data": {
      "text/html": [
       "<div>\n",
       "<style scoped>\n",
       "    .dataframe tbody tr th:only-of-type {\n",
       "        vertical-align: middle;\n",
       "    }\n",
       "\n",
       "    .dataframe tbody tr th {\n",
       "        vertical-align: top;\n",
       "    }\n",
       "\n",
       "    .dataframe thead th {\n",
       "        text-align: right;\n",
       "    }\n",
       "</style>\n",
       "<table border=\"1\" class=\"dataframe\">\n",
       "  <thead>\n",
       "    <tr style=\"text-align: right;\">\n",
       "      <th></th>\n",
       "      <th>Date</th>\n",
       "      <th>Cost</th>\n",
       "      <th>Gal</th>\n",
       "      <th>Mile</th>\n",
       "    </tr>\n",
       "  </thead>\n",
       "  <tbody>\n",
       "    <tr>\n",
       "      <th>0</th>\n",
       "      <td>06/16/17</td>\n",
       "      <td>$10.37</td>\n",
       "      <td>4.052</td>\n",
       "      <td>83.4</td>\n",
       "    </tr>\n",
       "    <tr>\n",
       "      <th>1</th>\n",
       "      <td>06/19/17</td>\n",
       "      <td>$15.29</td>\n",
       "      <td>7.426</td>\n",
       "      <td>194.7</td>\n",
       "    </tr>\n",
       "    <tr>\n",
       "      <th>2</th>\n",
       "      <td>07/14/17</td>\n",
       "      <td>$21.21</td>\n",
       "      <td>10.567</td>\n",
       "      <td>274.8</td>\n",
       "    </tr>\n",
       "    <tr>\n",
       "      <th>3</th>\n",
       "      <td>7/24/17</td>\n",
       "      <td>$24.53</td>\n",
       "      <td>12.269</td>\n",
       "      <td>254.1</td>\n",
       "    </tr>\n",
       "    <tr>\n",
       "      <th>4</th>\n",
       "      <td>8/18/17</td>\n",
       "      <td>$19.42</td>\n",
       "      <td>9.081</td>\n",
       "      <td>163.3</td>\n",
       "    </tr>\n",
       "  </tbody>\n",
       "</table>\n",
       "</div>"
      ],
      "text/plain": [
       "       Date    Cost     Gal   Mile\n",
       "0  06/16/17  $10.37   4.052   83.4\n",
       "1  06/19/17  $15.29   7.426  194.7\n",
       "2  07/14/17  $21.21  10.567  274.8\n",
       "3   7/24/17  $24.53  12.269  254.1\n",
       "4   8/18/17  $19.42   9.081  163.3"
      ]
     },
     "execution_count": 2,
     "metadata": {},
     "output_type": "execute_result"
    }
   ],
   "source": [
    "#read in the data\n",
    "df = pd.read_csv('data/GasData.csv')\n",
    "df.head()"
   ]
  },
  {
   "cell_type": "code",
   "execution_count": 3,
   "metadata": {},
   "outputs": [],
   "source": [
    "#cost needs to be a float\n",
    "df['Cost'] = df['Cost'].str.replace('$','')\n",
    "df['Cost'] = df['Cost'].map(lambda x: float(x))"
   ]
  },
  {
   "cell_type": "code",
   "execution_count": 4,
   "metadata": {},
   "outputs": [
    {
     "name": "stdout",
     "output_type": "stream",
     "text": [
      "<class 'pandas.core.frame.DataFrame'>\n",
      "RangeIndex: 91 entries, 0 to 90\n",
      "Data columns (total 6 columns):\n",
      " #   Column            Non-Null Count  Dtype  \n",
      "---  ------            --------------  -----  \n",
      " 0   Date              91 non-null     object \n",
      " 1   Cost              91 non-null     float64\n",
      " 2   Gal               91 non-null     float64\n",
      " 3   Mile              91 non-null     float64\n",
      " 4   Price_per_Gallon  91 non-null     float64\n",
      " 5   Mile_per_Gallon   91 non-null     float64\n",
      "dtypes: float64(5), object(1)\n",
      "memory usage: 4.4+ KB\n"
     ]
    }
   ],
   "source": [
    "#make price per gal column and mile per gal column\n",
    "df['Price_per_Gallon'] = df['Cost'] / df['Gal']\n",
    "df['Mile_per_Gallon'] = df['Mile'] / df['Gal']\n",
    "df.info()"
   ]
  },
  {
   "cell_type": "code",
   "execution_count": 5,
   "metadata": {},
   "outputs": [
    {
     "name": "stdout",
     "output_type": "stream",
     "text": [
      "<class 'pandas.core.frame.DataFrame'>\n",
      "RangeIndex: 91 entries, 0 to 90\n",
      "Data columns (total 7 columns):\n",
      " #   Column            Non-Null Count  Dtype  \n",
      "---  ------            --------------  -----  \n",
      " 0   Date              91 non-null     object \n",
      " 1   Cost              91 non-null     float64\n",
      " 2   Gal               91 non-null     float64\n",
      " 3   Mile              91 non-null     float64\n",
      " 4   Price_per_Gallon  91 non-null     float64\n",
      " 5   Mile_per_Gallon   91 non-null     float64\n",
      " 6   Year              91 non-null     object \n",
      "dtypes: float64(5), object(2)\n",
      "memory usage: 5.1+ KB\n"
     ]
    }
   ],
   "source": [
    "#make year column\n",
    "df['Year'] = df['Date'].map(lambda x: x[-2:])\n",
    "df.info()"
   ]
  },
  {
   "cell_type": "code",
   "execution_count": 6,
   "metadata": {},
   "outputs": [],
   "source": [
    "#make year dfs\n",
    "#2017\n",
    "df_2017 = df.loc[df['Year'] == '17']\n",
    "df_2017\n",
    "\n",
    "df_2018 = df.loc[df['Year'] == '18']\n",
    "df_2019 = df.loc[df['Year'] == '19']\n",
    "df_2020 = df.loc[df['Year'] == '20']\n",
    "df_2021 = df.loc[df['Year'] == '21']"
   ]
  },
  {
   "cell_type": "code",
   "execution_count": 7,
   "metadata": {},
   "outputs": [
    {
     "name": "stdout",
     "output_type": "stream",
     "text": [
      "The size of 2017 is 63\n",
      "The size of 2018 is 203\n",
      "The size of 2019 is 196\n",
      "The size of 2020 is 140\n",
      "The size of 2021 is 35\n"
     ]
    }
   ],
   "source": [
    "year_frames = [df_2017,df_2018,df_2019,df_2020,df_2021]\n",
    "yr = 2017\n",
    "\n",
    "for year in year_frames:\n",
    "    year.size\n",
    "    print(f'The size of {yr} is {year.size}')\n",
    "    yr +=1"
   ]
  },
  {
   "cell_type": "code",
   "execution_count": 8,
   "metadata": {},
   "outputs": [],
   "source": [
    "#im gonna compare 2018 and 2019 bc their sizes are similar\n"
   ]
  },
  {
   "cell_type": "code",
   "execution_count": null,
   "metadata": {},
   "outputs": [],
   "source": []
  }
 ],
 "metadata": {
  "kernelspec": {
   "display_name": "learn-env",
   "language": "python",
   "name": "learn-env"
  },
  "language_info": {
   "codemirror_mode": {
    "name": "ipython",
    "version": 3
   },
   "file_extension": ".py",
   "mimetype": "text/x-python",
   "name": "python",
   "nbconvert_exporter": "python",
   "pygments_lexer": "ipython3",
   "version": "3.8.5"
  },
  "toc": {
   "base_numbering": 1,
   "nav_menu": {},
   "number_sections": true,
   "sideBar": true,
   "skip_h1_title": false,
   "title_cell": "Table of Contents",
   "title_sidebar": "Contents",
   "toc_cell": false,
   "toc_position": {},
   "toc_section_display": true,
   "toc_window_display": false
  }
 },
 "nbformat": 4,
 "nbformat_minor": 4
}
